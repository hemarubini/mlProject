{
  "nbformat": 4,
  "nbformat_minor": 0,
  "metadata": {
    "colab": {
      "provenance": []
    },
    "kernelspec": {
      "name": "python3",
      "display_name": "Python 3"
    },
    "language_info": {
      "name": "python"
    }
  },
  "cells": [
    {
      "cell_type": "code",
      "execution_count": null,
      "metadata": {
        "colab": {
          "base_uri": "https://localhost:8080/",
          "height": 73
        },
        "id": "GZgY-vk4lUfH",
        "outputId": "27e5b43a-b425-482d-c718-7fb1b14cd8b7"
      },
      "outputs": [
        {
          "output_type": "display_data",
          "data": {
            "text/plain": [
              "<IPython.core.display.HTML object>"
            ],
            "text/html": [
              "\n",
              "     <input type=\"file\" id=\"files-503b526f-b2da-46c9-b659-3bb011ddbb14\" name=\"files[]\" multiple disabled\n",
              "        style=\"border:none\" />\n",
              "     <output id=\"result-503b526f-b2da-46c9-b659-3bb011ddbb14\">\n",
              "      Upload widget is only available when the cell has been executed in the\n",
              "      current browser session. Please rerun this cell to enable.\n",
              "      </output>\n",
              "      <script>// Copyright 2017 Google LLC\n",
              "//\n",
              "// Licensed under the Apache License, Version 2.0 (the \"License\");\n",
              "// you may not use this file except in compliance with the License.\n",
              "// You may obtain a copy of the License at\n",
              "//\n",
              "//      http://www.apache.org/licenses/LICENSE-2.0\n",
              "//\n",
              "// Unless required by applicable law or agreed to in writing, software\n",
              "// distributed under the License is distributed on an \"AS IS\" BASIS,\n",
              "// WITHOUT WARRANTIES OR CONDITIONS OF ANY KIND, either express or implied.\n",
              "// See the License for the specific language governing permissions and\n",
              "// limitations under the License.\n",
              "\n",
              "/**\n",
              " * @fileoverview Helpers for google.colab Python module.\n",
              " */\n",
              "(function(scope) {\n",
              "function span(text, styleAttributes = {}) {\n",
              "  const element = document.createElement('span');\n",
              "  element.textContent = text;\n",
              "  for (const key of Object.keys(styleAttributes)) {\n",
              "    element.style[key] = styleAttributes[key];\n",
              "  }\n",
              "  return element;\n",
              "}\n",
              "\n",
              "// Max number of bytes which will be uploaded at a time.\n",
              "const MAX_PAYLOAD_SIZE = 100 * 1024;\n",
              "\n",
              "function _uploadFiles(inputId, outputId) {\n",
              "  const steps = uploadFilesStep(inputId, outputId);\n",
              "  const outputElement = document.getElementById(outputId);\n",
              "  // Cache steps on the outputElement to make it available for the next call\n",
              "  // to uploadFilesContinue from Python.\n",
              "  outputElement.steps = steps;\n",
              "\n",
              "  return _uploadFilesContinue(outputId);\n",
              "}\n",
              "\n",
              "// This is roughly an async generator (not supported in the browser yet),\n",
              "// where there are multiple asynchronous steps and the Python side is going\n",
              "// to poll for completion of each step.\n",
              "// This uses a Promise to block the python side on completion of each step,\n",
              "// then passes the result of the previous step as the input to the next step.\n",
              "function _uploadFilesContinue(outputId) {\n",
              "  const outputElement = document.getElementById(outputId);\n",
              "  const steps = outputElement.steps;\n",
              "\n",
              "  const next = steps.next(outputElement.lastPromiseValue);\n",
              "  return Promise.resolve(next.value.promise).then((value) => {\n",
              "    // Cache the last promise value to make it available to the next\n",
              "    // step of the generator.\n",
              "    outputElement.lastPromiseValue = value;\n",
              "    return next.value.response;\n",
              "  });\n",
              "}\n",
              "\n",
              "/**\n",
              " * Generator function which is called between each async step of the upload\n",
              " * process.\n",
              " * @param {string} inputId Element ID of the input file picker element.\n",
              " * @param {string} outputId Element ID of the output display.\n",
              " * @return {!Iterable<!Object>} Iterable of next steps.\n",
              " */\n",
              "function* uploadFilesStep(inputId, outputId) {\n",
              "  const inputElement = document.getElementById(inputId);\n",
              "  inputElement.disabled = false;\n",
              "\n",
              "  const outputElement = document.getElementById(outputId);\n",
              "  outputElement.innerHTML = '';\n",
              "\n",
              "  const pickedPromise = new Promise((resolve) => {\n",
              "    inputElement.addEventListener('change', (e) => {\n",
              "      resolve(e.target.files);\n",
              "    });\n",
              "  });\n",
              "\n",
              "  const cancel = document.createElement('button');\n",
              "  inputElement.parentElement.appendChild(cancel);\n",
              "  cancel.textContent = 'Cancel upload';\n",
              "  const cancelPromise = new Promise((resolve) => {\n",
              "    cancel.onclick = () => {\n",
              "      resolve(null);\n",
              "    };\n",
              "  });\n",
              "\n",
              "  // Wait for the user to pick the files.\n",
              "  const files = yield {\n",
              "    promise: Promise.race([pickedPromise, cancelPromise]),\n",
              "    response: {\n",
              "      action: 'starting',\n",
              "    }\n",
              "  };\n",
              "\n",
              "  cancel.remove();\n",
              "\n",
              "  // Disable the input element since further picks are not allowed.\n",
              "  inputElement.disabled = true;\n",
              "\n",
              "  if (!files) {\n",
              "    return {\n",
              "      response: {\n",
              "        action: 'complete',\n",
              "      }\n",
              "    };\n",
              "  }\n",
              "\n",
              "  for (const file of files) {\n",
              "    const li = document.createElement('li');\n",
              "    li.append(span(file.name, {fontWeight: 'bold'}));\n",
              "    li.append(span(\n",
              "        `(${file.type || 'n/a'}) - ${file.size} bytes, ` +\n",
              "        `last modified: ${\n",
              "            file.lastModifiedDate ? file.lastModifiedDate.toLocaleDateString() :\n",
              "                                    'n/a'} - `));\n",
              "    const percent = span('0% done');\n",
              "    li.appendChild(percent);\n",
              "\n",
              "    outputElement.appendChild(li);\n",
              "\n",
              "    const fileDataPromise = new Promise((resolve) => {\n",
              "      const reader = new FileReader();\n",
              "      reader.onload = (e) => {\n",
              "        resolve(e.target.result);\n",
              "      };\n",
              "      reader.readAsArrayBuffer(file);\n",
              "    });\n",
              "    // Wait for the data to be ready.\n",
              "    let fileData = yield {\n",
              "      promise: fileDataPromise,\n",
              "      response: {\n",
              "        action: 'continue',\n",
              "      }\n",
              "    };\n",
              "\n",
              "    // Use a chunked sending to avoid message size limits. See b/62115660.\n",
              "    let position = 0;\n",
              "    do {\n",
              "      const length = Math.min(fileData.byteLength - position, MAX_PAYLOAD_SIZE);\n",
              "      const chunk = new Uint8Array(fileData, position, length);\n",
              "      position += length;\n",
              "\n",
              "      const base64 = btoa(String.fromCharCode.apply(null, chunk));\n",
              "      yield {\n",
              "        response: {\n",
              "          action: 'append',\n",
              "          file: file.name,\n",
              "          data: base64,\n",
              "        },\n",
              "      };\n",
              "\n",
              "      let percentDone = fileData.byteLength === 0 ?\n",
              "          100 :\n",
              "          Math.round((position / fileData.byteLength) * 100);\n",
              "      percent.textContent = `${percentDone}% done`;\n",
              "\n",
              "    } while (position < fileData.byteLength);\n",
              "  }\n",
              "\n",
              "  // All done.\n",
              "  yield {\n",
              "    response: {\n",
              "      action: 'complete',\n",
              "    }\n",
              "  };\n",
              "}\n",
              "\n",
              "scope.google = scope.google || {};\n",
              "scope.google.colab = scope.google.colab || {};\n",
              "scope.google.colab._files = {\n",
              "  _uploadFiles,\n",
              "  _uploadFilesContinue,\n",
              "};\n",
              "})(self);\n",
              "</script> "
            ]
          },
          "metadata": {}
        },
        {
          "output_type": "stream",
          "name": "stdout",
          "text": [
            "Saving Diabetes Missing Data.csv to Diabetes Missing Data.csv\n"
          ]
        }
      ],
      "source": [
        "from google.colab import files\n",
        "uploaded = files.upload()\n"
      ]
    },
    {
      "cell_type": "code",
      "source": [
        "import pandas as pd\n",
        "\n",
        "# Adjust the filename based on the uploaded file\n",
        "filename = 'Diabetes Missing Data.csv'\n",
        "df = pd.read_csv(filename)\n"
      ],
      "metadata": {
        "id": "ITzhh-BCmTGR"
      },
      "execution_count": null,
      "outputs": []
    },
    {
      "cell_type": "code",
      "source": [
        "print(df.info())\n",
        "print(df.head())\n"
      ],
      "metadata": {
        "colab": {
          "base_uri": "https://localhost:8080/"
        },
        "id": "FijxUsEumWSK",
        "outputId": "cddde5eb-6322-45b8-fb19-f7c94f725b8d"
      },
      "execution_count": null,
      "outputs": [
        {
          "output_type": "stream",
          "name": "stdout",
          "text": [
            "<class 'pandas.core.frame.DataFrame'>\n",
            "RangeIndex: 768 entries, 0 to 767\n",
            "Data columns (total 9 columns):\n",
            " #   Column             Non-Null Count  Dtype  \n",
            "---  ------             --------------  -----  \n",
            " 0   Pregnant           768 non-null    int64  \n",
            " 1   Glucose            763 non-null    float64\n",
            " 2   Diastolic_BP       733 non-null    float64\n",
            " 3   Skin_Fold          541 non-null    float64\n",
            " 4   Serum_Insulin      394 non-null    float64\n",
            " 5   BMI                757 non-null    float64\n",
            " 6   Diabetes_Pedigree  768 non-null    float64\n",
            " 7   Age                768 non-null    int64  \n",
            " 8   Class              768 non-null    int64  \n",
            "dtypes: float64(6), int64(3)\n",
            "memory usage: 54.1 KB\n",
            "None\n",
            "   Pregnant  Glucose  Diastolic_BP  Skin_Fold  Serum_Insulin   BMI  \\\n",
            "0         6    148.0          72.0       35.0            NaN  33.6   \n",
            "1         1     85.0          66.0       29.0            NaN  26.6   \n",
            "2         8    183.0          64.0        NaN            NaN  23.3   \n",
            "3         1     89.0          66.0       23.0           94.0  28.1   \n",
            "4         0    137.0          40.0       35.0          168.0  43.1   \n",
            "\n",
            "   Diabetes_Pedigree  Age  Class  \n",
            "0              0.627   50      1  \n",
            "1              0.351   31      0  \n",
            "2              0.672   32      1  \n",
            "3              0.167   21      0  \n",
            "4              2.288   33      1  \n"
          ]
        }
      ]
    },
    {
      "cell_type": "code",
      "source": [
        "# Drop rows with any missing values\n",
        "df.dropna(inplace=True)\n",
        "# Alternatively, fill missing values with a specific value or method\n",
        "# df.fillna(0, inplace=True)\n"
      ],
      "metadata": {
        "id": "ozIFLAcEmcQs"
      },
      "execution_count": null,
      "outputs": []
    },
    {
      "cell_type": "code",
      "source": [
        "df.drop_duplicates(inplace=True)\n"
      ],
      "metadata": {
        "id": "i8E3_de6mftD"
      },
      "execution_count": null,
      "outputs": []
    },
    {
      "source": [
        "from scipy import stats\n",
        "import numpy as np # Import the NumPy library\n",
        "\n",
        "df = df[(np.abs(stats.zscore(df)) < 3).all(axis=1)]"
      ],
      "cell_type": "code",
      "metadata": {
        "id": "PrNOQNpom3mN"
      },
      "execution_count": null,
      "outputs": []
    },
    {
      "source": [
        "from sklearn.preprocessing import StandardScaler\n",
        "\n",
        "# Replace 'actual_column_name' with the actual name of the numeric column in your DataFrame\n",
        "actual_column_name = 'Glucose'\n",
        "scaler = StandardScaler()\n",
        "df[actual_column_name] = scaler.fit_transform(df[[actual_column_name]])"
      ],
      "cell_type": "code",
      "metadata": {
        "colab": {
          "base_uri": "https://localhost:8080/"
        },
        "id": "-A1nAPj3nJir",
        "outputId": "f6670233-e6d7-4de8-8f7f-997afd07bd79"
      },
      "execution_count": null,
      "outputs": [
        {
          "output_type": "stream",
          "name": "stderr",
          "text": [
            "<ipython-input-11-1fcd2ad1d11a>:6: SettingWithCopyWarning: \n",
            "A value is trying to be set on a copy of a slice from a DataFrame.\n",
            "Try using .loc[row_indexer,col_indexer] = value instead\n",
            "\n",
            "See the caveats in the documentation: https://pandas.pydata.org/pandas-docs/stable/user_guide/indexing.html#returning-a-view-versus-a-copy\n",
            "  df[actual_column_name] = scaler.fit_transform(df[[actual_column_name]])\n"
          ]
        }
      ]
    },
    {
      "cell_type": "code",
      "source": [
        "df.rename(columns={'old_name': 'new_name'}, inplace=True)\n"
      ],
      "metadata": {
        "colab": {
          "base_uri": "https://localhost:8080/"
        },
        "id": "n04xl-DznPZ-",
        "outputId": "e47d841d-a1f9-4f4b-a7d2-0f902e6cbeed"
      },
      "execution_count": null,
      "outputs": [
        {
          "output_type": "stream",
          "name": "stderr",
          "text": [
            "<ipython-input-12-1fec87fb53e7>:1: SettingWithCopyWarning: \n",
            "A value is trying to be set on a copy of a slice from a DataFrame\n",
            "\n",
            "See the caveats in the documentation: https://pandas.pydata.org/pandas-docs/stable/user_guide/indexing.html#returning-a-view-versus-a-copy\n",
            "  df.rename(columns={'old_name': 'new_name'}, inplace=True)\n"
          ]
        }
      ]
    },
    {
      "cell_type": "code",
      "source": [
        "corr_matrix = df.corr().abs()\n",
        "upper = corr_matrix.where(np.triu(np.ones(corr_matrix.shape), k=1).astype(bool))\n",
        "to_drop = [column for column in upper.columns if any(upper[column] > 0.9)]\n",
        "df.drop(columns=to_drop, inplace=True)\n"
      ],
      "metadata": {
        "colab": {
          "base_uri": "https://localhost:8080/"
        },
        "id": "QztGVcMMnacL",
        "outputId": "b7c13eed-4596-4ba9-f023-588e6fd35ef8"
      },
      "execution_count": null,
      "outputs": [
        {
          "output_type": "stream",
          "name": "stderr",
          "text": [
            "<ipython-input-14-bfeba8c50904>:4: SettingWithCopyWarning: \n",
            "A value is trying to be set on a copy of a slice from a DataFrame\n",
            "\n",
            "See the caveats in the documentation: https://pandas.pydata.org/pandas-docs/stable/user_guide/indexing.html#returning-a-view-versus-a-copy\n",
            "  df.drop(columns=to_drop, inplace=True)\n"
          ]
        }
      ]
    },
    {
      "cell_type": "code",
      "source": [
        "#empty cell\n",
        "df_dropna = df.dropna()\n",
        "print(df_dropna.info())\n",
        "print(df_dropna.head())\n"
      ],
      "metadata": {
        "colab": {
          "base_uri": "https://localhost:8080/"
        },
        "id": "qbWXV4RInwGW",
        "outputId": "9e17b23c-10e7-4857-e44c-f6b324d1424b"
      },
      "execution_count": null,
      "outputs": [
        {
          "output_type": "stream",
          "name": "stdout",
          "text": [
            "<class 'pandas.core.frame.DataFrame'>\n",
            "Index: 365 entries, 3 to 765\n",
            "Data columns (total 9 columns):\n",
            " #   Column             Non-Null Count  Dtype  \n",
            "---  ------             --------------  -----  \n",
            " 0   Pregnant           365 non-null    int64  \n",
            " 1   Glucose            365 non-null    float64\n",
            " 2   Diastolic_BP       365 non-null    float64\n",
            " 3   Skin_Fold          365 non-null    float64\n",
            " 4   Serum_Insulin      365 non-null    float64\n",
            " 5   BMI                365 non-null    float64\n",
            " 6   Diabetes_Pedigree  365 non-null    float64\n",
            " 7   Age                365 non-null    int64  \n",
            " 8   Class              365 non-null    int64  \n",
            "dtypes: float64(6), int64(3)\n",
            "memory usage: 28.5 KB\n",
            "None\n",
            "    Pregnant   Glucose  Diastolic_BP  Skin_Fold  Serum_Insulin   BMI  \\\n",
            "3          1 -1.067234          66.0       23.0           94.0  28.1   \n",
            "6          3 -1.432065          50.0       32.0           88.0  31.0   \n",
            "14         5  1.486585          72.0       19.0          175.0  25.8   \n",
            "16         0 -0.105406          84.0       47.0          230.0  45.8   \n",
            "19         1 -0.204905          70.0       30.0           96.0  34.6   \n",
            "\n",
            "    Diabetes_Pedigree  Age  Class  \n",
            "3               0.167   21      0  \n",
            "6               0.248   26      1  \n",
            "14              0.587   51      1  \n",
            "16              0.551   31      1  \n",
            "19              0.529   32      1  \n"
          ]
        }
      ]
    },
    {
      "cell_type": "code",
      "source": [
        "df_fill_zero = df.fillna(0)\n",
        "print(df_fill_zero.info())\n",
        "print(df_fill_zero.head())\n"
      ],
      "metadata": {
        "colab": {
          "base_uri": "https://localhost:8080/"
        },
        "id": "9KgdDnbnn3DL",
        "outputId": "8d248714-161e-4574-9906-1ff2a774129f"
      },
      "execution_count": null,
      "outputs": [
        {
          "output_type": "stream",
          "name": "stdout",
          "text": [
            "<class 'pandas.core.frame.DataFrame'>\n",
            "Index: 365 entries, 3 to 765\n",
            "Data columns (total 9 columns):\n",
            " #   Column             Non-Null Count  Dtype  \n",
            "---  ------             --------------  -----  \n",
            " 0   Pregnant           365 non-null    int64  \n",
            " 1   Glucose            365 non-null    float64\n",
            " 2   Diastolic_BP       365 non-null    float64\n",
            " 3   Skin_Fold          365 non-null    float64\n",
            " 4   Serum_Insulin      365 non-null    float64\n",
            " 5   BMI                365 non-null    float64\n",
            " 6   Diabetes_Pedigree  365 non-null    float64\n",
            " 7   Age                365 non-null    int64  \n",
            " 8   Class              365 non-null    int64  \n",
            "dtypes: float64(6), int64(3)\n",
            "memory usage: 28.5 KB\n",
            "None\n",
            "    Pregnant   Glucose  Diastolic_BP  Skin_Fold  Serum_Insulin   BMI  \\\n",
            "3          1 -1.067234          66.0       23.0           94.0  28.1   \n",
            "6          3 -1.432065          50.0       32.0           88.0  31.0   \n",
            "14         5  1.486585          72.0       19.0          175.0  25.8   \n",
            "16         0 -0.105406          84.0       47.0          230.0  45.8   \n",
            "19         1 -0.204905          70.0       30.0           96.0  34.6   \n",
            "\n",
            "    Diabetes_Pedigree  Age  Class  \n",
            "3               0.167   21      0  \n",
            "6               0.248   26      1  \n",
            "14              0.587   51      1  \n",
            "16              0.551   31      1  \n",
            "19              0.529   32      1  \n"
          ]
        }
      ]
    },
    {
      "cell_type": "code",
      "source": [
        "df_fill_mean = df.copy()\n",
        "for column in df_fill_mean.columns:\n",
        "    if df_fill_mean[column].dtype in ['float64', 'int64']:  # Fill only numeric columns\n",
        "        df_fill_mean[column].fillna(df_fill_mean[column].mean(), inplace=True)\n",
        "print(df_fill_mean.info())\n",
        "print(df_fill_mean.head())\n"
      ],
      "metadata": {
        "colab": {
          "base_uri": "https://localhost:8080/"
        },
        "id": "VhiG6VVfoAKh",
        "outputId": "9d49562b-9441-43d4-c2f7-bfc4e11d2327"
      },
      "execution_count": null,
      "outputs": [
        {
          "output_type": "stream",
          "name": "stdout",
          "text": [
            "<class 'pandas.core.frame.DataFrame'>\n",
            "Index: 365 entries, 3 to 765\n",
            "Data columns (total 9 columns):\n",
            " #   Column             Non-Null Count  Dtype  \n",
            "---  ------             --------------  -----  \n",
            " 0   Pregnant           365 non-null    int64  \n",
            " 1   Glucose            365 non-null    float64\n",
            " 2   Diastolic_BP       365 non-null    float64\n",
            " 3   Skin_Fold          365 non-null    float64\n",
            " 4   Serum_Insulin      365 non-null    float64\n",
            " 5   BMI                365 non-null    float64\n",
            " 6   Diabetes_Pedigree  365 non-null    float64\n",
            " 7   Age                365 non-null    int64  \n",
            " 8   Class              365 non-null    int64  \n",
            "dtypes: float64(6), int64(3)\n",
            "memory usage: 28.5 KB\n",
            "None\n",
            "    Pregnant   Glucose  Diastolic_BP  Skin_Fold  Serum_Insulin   BMI  \\\n",
            "3          1 -1.067234          66.0       23.0           94.0  28.1   \n",
            "6          3 -1.432065          50.0       32.0           88.0  31.0   \n",
            "14         5  1.486585          72.0       19.0          175.0  25.8   \n",
            "16         0 -0.105406          84.0       47.0          230.0  45.8   \n",
            "19         1 -0.204905          70.0       30.0           96.0  34.6   \n",
            "\n",
            "    Diabetes_Pedigree  Age  Class  \n",
            "3               0.167   21      0  \n",
            "6               0.248   26      1  \n",
            "14              0.587   51      1  \n",
            "16              0.551   31      1  \n",
            "19              0.529   32      1  \n"
          ]
        }
      ]
    },
    {
      "cell_type": "code",
      "source": [
        "df_ffill = df.fillna(method='ffill')\n",
        "print(df_ffill.info())\n",
        "print(df_ffill.head())\n"
      ],
      "metadata": {
        "colab": {
          "base_uri": "https://localhost:8080/"
        },
        "id": "XHkGLWXhoDL-",
        "outputId": "4ac716b3-77a5-471c-a014-c7e9bd3ca9ff"
      },
      "execution_count": null,
      "outputs": [
        {
          "output_type": "stream",
          "name": "stdout",
          "text": [
            "<class 'pandas.core.frame.DataFrame'>\n",
            "Index: 365 entries, 3 to 765\n",
            "Data columns (total 9 columns):\n",
            " #   Column             Non-Null Count  Dtype  \n",
            "---  ------             --------------  -----  \n",
            " 0   Pregnant           365 non-null    int64  \n",
            " 1   Glucose            365 non-null    float64\n",
            " 2   Diastolic_BP       365 non-null    float64\n",
            " 3   Skin_Fold          365 non-null    float64\n",
            " 4   Serum_Insulin      365 non-null    float64\n",
            " 5   BMI                365 non-null    float64\n",
            " 6   Diabetes_Pedigree  365 non-null    float64\n",
            " 7   Age                365 non-null    int64  \n",
            " 8   Class              365 non-null    int64  \n",
            "dtypes: float64(6), int64(3)\n",
            "memory usage: 28.5 KB\n",
            "None\n",
            "    Pregnant   Glucose  Diastolic_BP  Skin_Fold  Serum_Insulin   BMI  \\\n",
            "3          1 -1.067234          66.0       23.0           94.0  28.1   \n",
            "6          3 -1.432065          50.0       32.0           88.0  31.0   \n",
            "14         5  1.486585          72.0       19.0          175.0  25.8   \n",
            "16         0 -0.105406          84.0       47.0          230.0  45.8   \n",
            "19         1 -0.204905          70.0       30.0           96.0  34.6   \n",
            "\n",
            "    Diabetes_Pedigree  Age  Class  \n",
            "3               0.167   21      0  \n",
            "6               0.248   26      1  \n",
            "14              0.587   51      1  \n",
            "16              0.551   31      1  \n",
            "19              0.529   32      1  \n"
          ]
        },
        {
          "output_type": "stream",
          "name": "stderr",
          "text": [
            "<ipython-input-18-15e68c763f3d>:1: FutureWarning: DataFrame.fillna with 'method' is deprecated and will raise in a future version. Use obj.ffill() or obj.bfill() instead.\n",
            "  df_ffill = df.fillna(method='ffill')\n"
          ]
        }
      ]
    },
    {
      "cell_type": "code",
      "source": [
        "df_bfill = df.fillna(method='bfill')\n",
        "print(df_bfill.info())\n",
        "print(df_bfill.head())\n"
      ],
      "metadata": {
        "colab": {
          "base_uri": "https://localhost:8080/"
        },
        "id": "hiOMjoFwoGcm",
        "outputId": "a517e242-e9e3-4416-bd81-a35e94e6e47c"
      },
      "execution_count": null,
      "outputs": [
        {
          "output_type": "stream",
          "name": "stdout",
          "text": [
            "<class 'pandas.core.frame.DataFrame'>\n",
            "Index: 365 entries, 3 to 765\n",
            "Data columns (total 9 columns):\n",
            " #   Column             Non-Null Count  Dtype  \n",
            "---  ------             --------------  -----  \n",
            " 0   Pregnant           365 non-null    int64  \n",
            " 1   Glucose            365 non-null    float64\n",
            " 2   Diastolic_BP       365 non-null    float64\n",
            " 3   Skin_Fold          365 non-null    float64\n",
            " 4   Serum_Insulin      365 non-null    float64\n",
            " 5   BMI                365 non-null    float64\n",
            " 6   Diabetes_Pedigree  365 non-null    float64\n",
            " 7   Age                365 non-null    int64  \n",
            " 8   Class              365 non-null    int64  \n",
            "dtypes: float64(6), int64(3)\n",
            "memory usage: 28.5 KB\n",
            "None\n",
            "    Pregnant   Glucose  Diastolic_BP  Skin_Fold  Serum_Insulin   BMI  \\\n",
            "3          1 -1.067234          66.0       23.0           94.0  28.1   \n",
            "6          3 -1.432065          50.0       32.0           88.0  31.0   \n",
            "14         5  1.486585          72.0       19.0          175.0  25.8   \n",
            "16         0 -0.105406          84.0       47.0          230.0  45.8   \n",
            "19         1 -0.204905          70.0       30.0           96.0  34.6   \n",
            "\n",
            "    Diabetes_Pedigree  Age  Class  \n",
            "3               0.167   21      0  \n",
            "6               0.248   26      1  \n",
            "14              0.587   51      1  \n",
            "16              0.551   31      1  \n",
            "19              0.529   32      1  \n"
          ]
        },
        {
          "output_type": "stream",
          "name": "stderr",
          "text": [
            "<ipython-input-19-72395b8504b2>:1: FutureWarning: DataFrame.fillna with 'method' is deprecated and will raise in a future version. Use obj.ffill() or obj.bfill() instead.\n",
            "  df_bfill = df.fillna(method='bfill')\n"
          ]
        }
      ]
    },
    {
      "cell_type": "code",
      "source": [
        "#NAN technique\n",
        "print(\"NaN values in the dataset:\")\n",
        "print(df.isna().sum())\n"
      ],
      "metadata": {
        "colab": {
          "base_uri": "https://localhost:8080/"
        },
        "id": "xrlWFSdyoOom",
        "outputId": "3787b290-aed8-488b-cc89-ddca0dcae6a7"
      },
      "execution_count": null,
      "outputs": [
        {
          "output_type": "stream",
          "name": "stdout",
          "text": [
            "NaN values in the dataset:\n",
            "Pregnant             0\n",
            "Glucose              0\n",
            "Diastolic_BP         0\n",
            "Skin_Fold            0\n",
            "Serum_Insulin        0\n",
            "BMI                  0\n",
            "Diabetes_Pedigree    0\n",
            "Age                  0\n",
            "Class                0\n",
            "dtype: int64\n"
          ]
        }
      ]
    },
    {
      "cell_type": "code",
      "source": [
        "df_dropna = df.dropna()\n",
        "print(\"Data after dropping rows with any NaN values:\")\n",
        "print(df_dropna.info())\n",
        "print(df_dropna.head())\n"
      ],
      "metadata": {
        "colab": {
          "base_uri": "https://localhost:8080/"
        },
        "id": "fcAGXhEGoVch",
        "outputId": "3d5a25f5-bb77-40be-8ce1-3d5a3e1d182d"
      },
      "execution_count": null,
      "outputs": [
        {
          "output_type": "stream",
          "name": "stdout",
          "text": [
            "Data after dropping rows with any NaN values:\n",
            "<class 'pandas.core.frame.DataFrame'>\n",
            "Index: 365 entries, 3 to 765\n",
            "Data columns (total 9 columns):\n",
            " #   Column             Non-Null Count  Dtype  \n",
            "---  ------             --------------  -----  \n",
            " 0   Pregnant           365 non-null    int64  \n",
            " 1   Glucose            365 non-null    float64\n",
            " 2   Diastolic_BP       365 non-null    float64\n",
            " 3   Skin_Fold          365 non-null    float64\n",
            " 4   Serum_Insulin      365 non-null    float64\n",
            " 5   BMI                365 non-null    float64\n",
            " 6   Diabetes_Pedigree  365 non-null    float64\n",
            " 7   Age                365 non-null    int64  \n",
            " 8   Class              365 non-null    int64  \n",
            "dtypes: float64(6), int64(3)\n",
            "memory usage: 28.5 KB\n",
            "None\n",
            "    Pregnant   Glucose  Diastolic_BP  Skin_Fold  Serum_Insulin   BMI  \\\n",
            "3          1 -1.067234          66.0       23.0           94.0  28.1   \n",
            "6          3 -1.432065          50.0       32.0           88.0  31.0   \n",
            "14         5  1.486585          72.0       19.0          175.0  25.8   \n",
            "16         0 -0.105406          84.0       47.0          230.0  45.8   \n",
            "19         1 -0.204905          70.0       30.0           96.0  34.6   \n",
            "\n",
            "    Diabetes_Pedigree  Age  Class  \n",
            "3               0.167   21      0  \n",
            "6               0.248   26      1  \n",
            "14              0.587   51      1  \n",
            "16              0.551   31      1  \n",
            "19              0.529   32      1  \n"
          ]
        }
      ]
    },
    {
      "cell_type": "code",
      "source": [
        "df_fill_zero = df.fillna(0)\n",
        "print(\"Data after filling NaN values with zero:\")\n",
        "print(df_fill_zero.info())\n",
        "print(df_fill_zero.head())\n"
      ],
      "metadata": {
        "colab": {
          "base_uri": "https://localhost:8080/"
        },
        "id": "TmVYr5apocm4",
        "outputId": "66260262-7f37-4b0a-998d-7bb039c48207"
      },
      "execution_count": null,
      "outputs": [
        {
          "output_type": "stream",
          "name": "stdout",
          "text": [
            "Data after filling NaN values with zero:\n",
            "<class 'pandas.core.frame.DataFrame'>\n",
            "Index: 365 entries, 3 to 765\n",
            "Data columns (total 9 columns):\n",
            " #   Column             Non-Null Count  Dtype  \n",
            "---  ------             --------------  -----  \n",
            " 0   Pregnant           365 non-null    int64  \n",
            " 1   Glucose            365 non-null    float64\n",
            " 2   Diastolic_BP       365 non-null    float64\n",
            " 3   Skin_Fold          365 non-null    float64\n",
            " 4   Serum_Insulin      365 non-null    float64\n",
            " 5   BMI                365 non-null    float64\n",
            " 6   Diabetes_Pedigree  365 non-null    float64\n",
            " 7   Age                365 non-null    int64  \n",
            " 8   Class              365 non-null    int64  \n",
            "dtypes: float64(6), int64(3)\n",
            "memory usage: 28.5 KB\n",
            "None\n",
            "    Pregnant   Glucose  Diastolic_BP  Skin_Fold  Serum_Insulin   BMI  \\\n",
            "3          1 -1.067234          66.0       23.0           94.0  28.1   \n",
            "6          3 -1.432065          50.0       32.0           88.0  31.0   \n",
            "14         5  1.486585          72.0       19.0          175.0  25.8   \n",
            "16         0 -0.105406          84.0       47.0          230.0  45.8   \n",
            "19         1 -0.204905          70.0       30.0           96.0  34.6   \n",
            "\n",
            "    Diabetes_Pedigree  Age  Class  \n",
            "3               0.167   21      0  \n",
            "6               0.248   26      1  \n",
            "14              0.587   51      1  \n",
            "16              0.551   31      1  \n",
            "19              0.529   32      1  \n"
          ]
        }
      ]
    },
    {
      "cell_type": "code",
      "source": [
        "df_fill_mean = df.copy()\n",
        "for column in df_fill_mean.columns:\n",
        "    if df_fill_mean[column].dtype in ['float64', 'int64']:  # Fill only numeric columns\n",
        "        df_fill_mean[column].fillna(df_fill_mean[column].mean(), inplace=True)\n",
        "print(\"Data after filling NaN values with the mean of the column:\")\n",
        "print(df_fill_mean.info())\n",
        "print(df_fill_mean.head())\n"
      ],
      "metadata": {
        "colab": {
          "base_uri": "https://localhost:8080/"
        },
        "id": "nU_5HbvEogU1",
        "outputId": "a0fee921-0e3a-485e-d997-5dd66d1258c1"
      },
      "execution_count": null,
      "outputs": [
        {
          "output_type": "stream",
          "name": "stdout",
          "text": [
            "Data after filling NaN values with the mean of the column:\n",
            "<class 'pandas.core.frame.DataFrame'>\n",
            "Index: 365 entries, 3 to 765\n",
            "Data columns (total 9 columns):\n",
            " #   Column             Non-Null Count  Dtype  \n",
            "---  ------             --------------  -----  \n",
            " 0   Pregnant           365 non-null    int64  \n",
            " 1   Glucose            365 non-null    float64\n",
            " 2   Diastolic_BP       365 non-null    float64\n",
            " 3   Skin_Fold          365 non-null    float64\n",
            " 4   Serum_Insulin      365 non-null    float64\n",
            " 5   BMI                365 non-null    float64\n",
            " 6   Diabetes_Pedigree  365 non-null    float64\n",
            " 7   Age                365 non-null    int64  \n",
            " 8   Class              365 non-null    int64  \n",
            "dtypes: float64(6), int64(3)\n",
            "memory usage: 28.5 KB\n",
            "None\n",
            "    Pregnant   Glucose  Diastolic_BP  Skin_Fold  Serum_Insulin   BMI  \\\n",
            "3          1 -1.067234          66.0       23.0           94.0  28.1   \n",
            "6          3 -1.432065          50.0       32.0           88.0  31.0   \n",
            "14         5  1.486585          72.0       19.0          175.0  25.8   \n",
            "16         0 -0.105406          84.0       47.0          230.0  45.8   \n",
            "19         1 -0.204905          70.0       30.0           96.0  34.6   \n",
            "\n",
            "    Diabetes_Pedigree  Age  Class  \n",
            "3               0.167   21      0  \n",
            "6               0.248   26      1  \n",
            "14              0.587   51      1  \n",
            "16              0.551   31      1  \n",
            "19              0.529   32      1  \n"
          ]
        }
      ]
    },
    {
      "cell_type": "code",
      "source": [
        "df_fill_median = df.copy()\n",
        "for column in df_fill_median.columns:\n",
        "    if df_fill_median[column].dtype in ['float64', 'int64']:  # Fill only numeric columns\n",
        "        df_fill_median[column].fillna(df_fill_median[column].median(), inplace=True)\n",
        "print(\"Data after filling NaN values with the median of the column:\")\n",
        "print(df_fill_median.info())\n",
        "print(df_fill_median.head())\n"
      ],
      "metadata": {
        "colab": {
          "base_uri": "https://localhost:8080/"
        },
        "id": "N7a73M8HonYt",
        "outputId": "873ee295-8787-427c-b8f6-2e52a14513e8"
      },
      "execution_count": null,
      "outputs": [
        {
          "output_type": "stream",
          "name": "stdout",
          "text": [
            "Data after filling NaN values with the median of the column:\n",
            "<class 'pandas.core.frame.DataFrame'>\n",
            "Index: 365 entries, 3 to 765\n",
            "Data columns (total 9 columns):\n",
            " #   Column             Non-Null Count  Dtype  \n",
            "---  ------             --------------  -----  \n",
            " 0   Pregnant           365 non-null    int64  \n",
            " 1   Glucose            365 non-null    float64\n",
            " 2   Diastolic_BP       365 non-null    float64\n",
            " 3   Skin_Fold          365 non-null    float64\n",
            " 4   Serum_Insulin      365 non-null    float64\n",
            " 5   BMI                365 non-null    float64\n",
            " 6   Diabetes_Pedigree  365 non-null    float64\n",
            " 7   Age                365 non-null    int64  \n",
            " 8   Class              365 non-null    int64  \n",
            "dtypes: float64(6), int64(3)\n",
            "memory usage: 28.5 KB\n",
            "None\n",
            "    Pregnant   Glucose  Diastolic_BP  Skin_Fold  Serum_Insulin   BMI  \\\n",
            "3          1 -1.067234          66.0       23.0           94.0  28.1   \n",
            "6          3 -1.432065          50.0       32.0           88.0  31.0   \n",
            "14         5  1.486585          72.0       19.0          175.0  25.8   \n",
            "16         0 -0.105406          84.0       47.0          230.0  45.8   \n",
            "19         1 -0.204905          70.0       30.0           96.0  34.6   \n",
            "\n",
            "    Diabetes_Pedigree  Age  Class  \n",
            "3               0.167   21      0  \n",
            "6               0.248   26      1  \n",
            "14              0.587   51      1  \n",
            "16              0.551   31      1  \n",
            "19              0.529   32      1  \n"
          ]
        }
      ]
    },
    {
      "cell_type": "code",
      "source": [
        "df_fill_mode = df.copy()\n",
        "for column in df_fill_mode.columns:\n",
        "    if df_fill_mode[column].dtype in ['float64', 'int64']:  # Fill only numeric columns\n",
        "        df_fill_mode[column].fillna(df_fill_mode[column].mode()[0], inplace=True)\n",
        "print(\"Data after filling NaN values with the mode of the column:\")\n",
        "print(df_fill_mode.info())\n",
        "print(df_fill_mode.head())\n"
      ],
      "metadata": {
        "colab": {
          "base_uri": "https://localhost:8080/"
        },
        "id": "heVp0QivosTf",
        "outputId": "981baa75-d341-4676-ef17-2c84495932ec"
      },
      "execution_count": null,
      "outputs": [
        {
          "output_type": "stream",
          "name": "stdout",
          "text": [
            "Data after filling NaN values with the mode of the column:\n",
            "<class 'pandas.core.frame.DataFrame'>\n",
            "Index: 365 entries, 3 to 765\n",
            "Data columns (total 9 columns):\n",
            " #   Column             Non-Null Count  Dtype  \n",
            "---  ------             --------------  -----  \n",
            " 0   Pregnant           365 non-null    int64  \n",
            " 1   Glucose            365 non-null    float64\n",
            " 2   Diastolic_BP       365 non-null    float64\n",
            " 3   Skin_Fold          365 non-null    float64\n",
            " 4   Serum_Insulin      365 non-null    float64\n",
            " 5   BMI                365 non-null    float64\n",
            " 6   Diabetes_Pedigree  365 non-null    float64\n",
            " 7   Age                365 non-null    int64  \n",
            " 8   Class              365 non-null    int64  \n",
            "dtypes: float64(6), int64(3)\n",
            "memory usage: 28.5 KB\n",
            "None\n",
            "    Pregnant   Glucose  Diastolic_BP  Skin_Fold  Serum_Insulin   BMI  \\\n",
            "3          1 -1.067234          66.0       23.0           94.0  28.1   \n",
            "6          3 -1.432065          50.0       32.0           88.0  31.0   \n",
            "14         5  1.486585          72.0       19.0          175.0  25.8   \n",
            "16         0 -0.105406          84.0       47.0          230.0  45.8   \n",
            "19         1 -0.204905          70.0       30.0           96.0  34.6   \n",
            "\n",
            "    Diabetes_Pedigree  Age  Class  \n",
            "3               0.167   21      0  \n",
            "6               0.248   26      1  \n",
            "14              0.587   51      1  \n",
            "16              0.551   31      1  \n",
            "19              0.529   32      1  \n"
          ]
        }
      ]
    },
    {
      "cell_type": "code",
      "source": [
        "df_ffill = df.fillna(method='ffill')\n",
        "print(\"Data after forward fill:\")\n",
        "print(df_ffill.info())\n",
        "print(df_ffill.head())\n"
      ],
      "metadata": {
        "colab": {
          "base_uri": "https://localhost:8080/"
        },
        "id": "Y5hydAaYowSM",
        "outputId": "d4cbc172-633e-4d33-a93f-b07eae8a5c42"
      },
      "execution_count": null,
      "outputs": [
        {
          "output_type": "stream",
          "name": "stdout",
          "text": [
            "Data after forward fill:\n",
            "<class 'pandas.core.frame.DataFrame'>\n",
            "Index: 365 entries, 3 to 765\n",
            "Data columns (total 9 columns):\n",
            " #   Column             Non-Null Count  Dtype  \n",
            "---  ------             --------------  -----  \n",
            " 0   Pregnant           365 non-null    int64  \n",
            " 1   Glucose            365 non-null    float64\n",
            " 2   Diastolic_BP       365 non-null    float64\n",
            " 3   Skin_Fold          365 non-null    float64\n",
            " 4   Serum_Insulin      365 non-null    float64\n",
            " 5   BMI                365 non-null    float64\n",
            " 6   Diabetes_Pedigree  365 non-null    float64\n",
            " 7   Age                365 non-null    int64  \n",
            " 8   Class              365 non-null    int64  \n",
            "dtypes: float64(6), int64(3)\n",
            "memory usage: 28.5 KB\n",
            "None\n",
            "    Pregnant   Glucose  Diastolic_BP  Skin_Fold  Serum_Insulin   BMI  \\\n",
            "3          1 -1.067234          66.0       23.0           94.0  28.1   \n",
            "6          3 -1.432065          50.0       32.0           88.0  31.0   \n",
            "14         5  1.486585          72.0       19.0          175.0  25.8   \n",
            "16         0 -0.105406          84.0       47.0          230.0  45.8   \n",
            "19         1 -0.204905          70.0       30.0           96.0  34.6   \n",
            "\n",
            "    Diabetes_Pedigree  Age  Class  \n",
            "3               0.167   21      0  \n",
            "6               0.248   26      1  \n",
            "14              0.587   51      1  \n",
            "16              0.551   31      1  \n",
            "19              0.529   32      1  \n"
          ]
        },
        {
          "output_type": "stream",
          "name": "stderr",
          "text": [
            "<ipython-input-26-4ba08d406b9d>:1: FutureWarning: DataFrame.fillna with 'method' is deprecated and will raise in a future version. Use obj.ffill() or obj.bfill() instead.\n",
            "  df_ffill = df.fillna(method='ffill')\n"
          ]
        }
      ]
    },
    {
      "cell_type": "code",
      "source": [
        "df_bfill = df.fillna(method='bfill')\n",
        "print(\"Data after backward fill:\")\n",
        "print(df_bfill.info())\n",
        "print(df_bfill.head())\n"
      ],
      "metadata": {
        "colab": {
          "base_uri": "https://localhost:8080/"
        },
        "id": "E1PSUw-Lo0Ay",
        "outputId": "b06a23a8-164f-4a79-d477-366b74972ff7"
      },
      "execution_count": null,
      "outputs": [
        {
          "output_type": "stream",
          "name": "stdout",
          "text": [
            "Data after backward fill:\n",
            "<class 'pandas.core.frame.DataFrame'>\n",
            "Index: 365 entries, 3 to 765\n",
            "Data columns (total 9 columns):\n",
            " #   Column             Non-Null Count  Dtype  \n",
            "---  ------             --------------  -----  \n",
            " 0   Pregnant           365 non-null    int64  \n",
            " 1   Glucose            365 non-null    float64\n",
            " 2   Diastolic_BP       365 non-null    float64\n",
            " 3   Skin_Fold          365 non-null    float64\n",
            " 4   Serum_Insulin      365 non-null    float64\n",
            " 5   BMI                365 non-null    float64\n",
            " 6   Diabetes_Pedigree  365 non-null    float64\n",
            " 7   Age                365 non-null    int64  \n",
            " 8   Class              365 non-null    int64  \n",
            "dtypes: float64(6), int64(3)\n",
            "memory usage: 28.5 KB\n",
            "None\n",
            "    Pregnant   Glucose  Diastolic_BP  Skin_Fold  Serum_Insulin   BMI  \\\n",
            "3          1 -1.067234          66.0       23.0           94.0  28.1   \n",
            "6          3 -1.432065          50.0       32.0           88.0  31.0   \n",
            "14         5  1.486585          72.0       19.0          175.0  25.8   \n",
            "16         0 -0.105406          84.0       47.0          230.0  45.8   \n",
            "19         1 -0.204905          70.0       30.0           96.0  34.6   \n",
            "\n",
            "    Diabetes_Pedigree  Age  Class  \n",
            "3               0.167   21      0  \n",
            "6               0.248   26      1  \n",
            "14              0.587   51      1  \n",
            "16              0.551   31      1  \n",
            "19              0.529   32      1  \n"
          ]
        },
        {
          "output_type": "stream",
          "name": "stderr",
          "text": [
            "<ipython-input-27-20354005580c>:1: FutureWarning: DataFrame.fillna with 'method' is deprecated and will raise in a future version. Use obj.ffill() or obj.bfill() instead.\n",
            "  df_bfill = df.fillna(method='bfill')\n"
          ]
        }
      ]
    },
    {
      "cell_type": "code",
      "source": [
        "#undefined technique\n",
        "# Display NaN counts for each column\n",
        "print(\"NaN values in the dataset:\")\n",
        "print(df.isna().sum())\n",
        "\n",
        "# Display rows with undefined values (NaN)\n",
        "print(\"Rows with undefined values (NaN):\")\n",
        "print(df[df.isna().any(axis=1)])\n"
      ],
      "metadata": {
        "colab": {
          "base_uri": "https://localhost:8080/"
        },
        "id": "BADP15pjo87E",
        "outputId": "15344ab0-6302-48a3-eeae-8ef4d5a32a67"
      },
      "execution_count": null,
      "outputs": [
        {
          "output_type": "stream",
          "name": "stdout",
          "text": [
            "NaN values in the dataset:\n",
            "Pregnant             0\n",
            "Glucose              0\n",
            "Diastolic_BP         0\n",
            "Skin_Fold            0\n",
            "Serum_Insulin        0\n",
            "BMI                  0\n",
            "Diabetes_Pedigree    0\n",
            "Age                  0\n",
            "Class                0\n",
            "dtype: int64\n",
            "Rows with undefined values (NaN):\n",
            "Empty DataFrame\n",
            "Columns: [Pregnant, Glucose, Diastolic_BP, Skin_Fold, Serum_Insulin, BMI, Diabetes_Pedigree, Age, Class]\n",
            "Index: []\n"
          ]
        }
      ]
    },
    {
      "cell_type": "code",
      "source": [
        "# Define a list of placeholders\n",
        "placeholders = ['undefined', 'n/a', 'missing', 'N/A', 'NA', '']\n",
        "\n",
        "# Replace placeholders with NaN\n",
        "df.replace(placeholders, pd.NA, inplace=True)\n",
        "print(\"Data after replacing placeholders with NaN:\")\n",
        "print(df.isna().sum())\n"
      ],
      "metadata": {
        "colab": {
          "base_uri": "https://localhost:8080/"
        },
        "id": "ciaFTwyfpDau",
        "outputId": "70d461ac-86bc-4e98-a288-b2b32ed75afd"
      },
      "execution_count": null,
      "outputs": [
        {
          "output_type": "stream",
          "name": "stdout",
          "text": [
            "Data after replacing placeholders with NaN:\n",
            "Pregnant             0\n",
            "Glucose              0\n",
            "Diastolic_BP         0\n",
            "Skin_Fold            0\n",
            "Serum_Insulin        0\n",
            "BMI                  0\n",
            "Diabetes_Pedigree    0\n",
            "Age                  0\n",
            "Class                0\n",
            "dtype: int64\n"
          ]
        }
      ]
    },
    {
      "cell_type": "code",
      "source": [
        "# Fill NaN values with zero\n",
        "df_fill_zero = df.fillna(0)\n",
        "print(\"Data after filling NaN values with zero:\")\n",
        "print(df_fill_zero.info())\n",
        "print(df_fill_zero.head())\n",
        "\n",
        "# Fill NaN values with the mean of the column\n",
        "df_fill_mean = df.copy()\n",
        "for column in df_fill_mean.columns:\n",
        "    if df_fill_mean[column].dtype in ['float64', 'int64']:  # Fill only numeric columns\n",
        "        df_fill_mean[column].fillna(df_fill_mean[column].mean(), inplace=True)\n",
        "print(\"Data after filling NaN values with the mean of the column:\")\n",
        "print(df_fill_mean.info())\n",
        "print(df_fill_mean.head())\n"
      ],
      "metadata": {
        "colab": {
          "base_uri": "https://localhost:8080/"
        },
        "id": "9ZBBH_DYpHZo",
        "outputId": "63371ea2-8960-445a-de6b-bbd8239981fd"
      },
      "execution_count": null,
      "outputs": [
        {
          "output_type": "stream",
          "name": "stdout",
          "text": [
            "Data after filling NaN values with zero:\n",
            "<class 'pandas.core.frame.DataFrame'>\n",
            "Index: 365 entries, 3 to 765\n",
            "Data columns (total 9 columns):\n",
            " #   Column             Non-Null Count  Dtype  \n",
            "---  ------             --------------  -----  \n",
            " 0   Pregnant           365 non-null    int64  \n",
            " 1   Glucose            365 non-null    float64\n",
            " 2   Diastolic_BP       365 non-null    float64\n",
            " 3   Skin_Fold          365 non-null    float64\n",
            " 4   Serum_Insulin      365 non-null    float64\n",
            " 5   BMI                365 non-null    float64\n",
            " 6   Diabetes_Pedigree  365 non-null    float64\n",
            " 7   Age                365 non-null    int64  \n",
            " 8   Class              365 non-null    int64  \n",
            "dtypes: float64(6), int64(3)\n",
            "memory usage: 28.5 KB\n",
            "None\n",
            "    Pregnant   Glucose  Diastolic_BP  Skin_Fold  Serum_Insulin   BMI  \\\n",
            "3          1 -1.067234          66.0       23.0           94.0  28.1   \n",
            "6          3 -1.432065          50.0       32.0           88.0  31.0   \n",
            "14         5  1.486585          72.0       19.0          175.0  25.8   \n",
            "16         0 -0.105406          84.0       47.0          230.0  45.8   \n",
            "19         1 -0.204905          70.0       30.0           96.0  34.6   \n",
            "\n",
            "    Diabetes_Pedigree  Age  Class  \n",
            "3               0.167   21      0  \n",
            "6               0.248   26      1  \n",
            "14              0.587   51      1  \n",
            "16              0.551   31      1  \n",
            "19              0.529   32      1  \n",
            "Data after filling NaN values with the mean of the column:\n",
            "<class 'pandas.core.frame.DataFrame'>\n",
            "Index: 365 entries, 3 to 765\n",
            "Data columns (total 9 columns):\n",
            " #   Column             Non-Null Count  Dtype  \n",
            "---  ------             --------------  -----  \n",
            " 0   Pregnant           365 non-null    int64  \n",
            " 1   Glucose            365 non-null    float64\n",
            " 2   Diastolic_BP       365 non-null    float64\n",
            " 3   Skin_Fold          365 non-null    float64\n",
            " 4   Serum_Insulin      365 non-null    float64\n",
            " 5   BMI                365 non-null    float64\n",
            " 6   Diabetes_Pedigree  365 non-null    float64\n",
            " 7   Age                365 non-null    int64  \n",
            " 8   Class              365 non-null    int64  \n",
            "dtypes: float64(6), int64(3)\n",
            "memory usage: 28.5 KB\n",
            "None\n",
            "    Pregnant   Glucose  Diastolic_BP  Skin_Fold  Serum_Insulin   BMI  \\\n",
            "3          1 -1.067234          66.0       23.0           94.0  28.1   \n",
            "6          3 -1.432065          50.0       32.0           88.0  31.0   \n",
            "14         5  1.486585          72.0       19.0          175.0  25.8   \n",
            "16         0 -0.105406          84.0       47.0          230.0  45.8   \n",
            "19         1 -0.204905          70.0       30.0           96.0  34.6   \n",
            "\n",
            "    Diabetes_Pedigree  Age  Class  \n",
            "3               0.167   21      0  \n",
            "6               0.248   26      1  \n",
            "14              0.587   51      1  \n",
            "16              0.551   31      1  \n",
            "19              0.529   32      1  \n"
          ]
        }
      ]
    },
    {
      "cell_type": "code",
      "source": [
        "# Forward fill NaN values\n",
        "df_ffill = df.fillna(method='ffill')\n",
        "print(\"Data after forward fill:\")\n",
        "print(df_ffill.info())\n",
        "print(df_ffill.head())\n",
        "\n",
        "# Backward fill NaN values\n",
        "df_bfill = df.fillna(method='bfill')\n",
        "print(\"Data after backward fill:\")\n",
        "print(df_bfill.info())\n",
        "print(df_bfill.head())\n"
      ],
      "metadata": {
        "colab": {
          "base_uri": "https://localhost:8080/"
        },
        "id": "paucP2hJpMg9",
        "outputId": "fa97607d-5297-443e-c1e3-817ea1654c99"
      },
      "execution_count": null,
      "outputs": [
        {
          "output_type": "stream",
          "name": "stdout",
          "text": [
            "Data after forward fill:\n",
            "<class 'pandas.core.frame.DataFrame'>\n",
            "Index: 365 entries, 3 to 765\n",
            "Data columns (total 9 columns):\n",
            " #   Column             Non-Null Count  Dtype  \n",
            "---  ------             --------------  -----  \n",
            " 0   Pregnant           365 non-null    int64  \n",
            " 1   Glucose            365 non-null    float64\n",
            " 2   Diastolic_BP       365 non-null    float64\n",
            " 3   Skin_Fold          365 non-null    float64\n",
            " 4   Serum_Insulin      365 non-null    float64\n",
            " 5   BMI                365 non-null    float64\n",
            " 6   Diabetes_Pedigree  365 non-null    float64\n",
            " 7   Age                365 non-null    int64  \n",
            " 8   Class              365 non-null    int64  \n",
            "dtypes: float64(6), int64(3)\n",
            "memory usage: 28.5 KB\n",
            "None\n",
            "    Pregnant   Glucose  Diastolic_BP  Skin_Fold  Serum_Insulin   BMI  \\\n",
            "3          1 -1.067234          66.0       23.0           94.0  28.1   \n",
            "6          3 -1.432065          50.0       32.0           88.0  31.0   \n",
            "14         5  1.486585          72.0       19.0          175.0  25.8   \n",
            "16         0 -0.105406          84.0       47.0          230.0  45.8   \n",
            "19         1 -0.204905          70.0       30.0           96.0  34.6   \n",
            "\n",
            "    Diabetes_Pedigree  Age  Class  \n",
            "3               0.167   21      0  \n",
            "6               0.248   26      1  \n",
            "14              0.587   51      1  \n",
            "16              0.551   31      1  \n",
            "19              0.529   32      1  \n",
            "Data after backward fill:\n",
            "<class 'pandas.core.frame.DataFrame'>\n",
            "Index: 365 entries, 3 to 765\n",
            "Data columns (total 9 columns):\n",
            " #   Column             Non-Null Count  Dtype  \n",
            "---  ------             --------------  -----  \n",
            " 0   Pregnant           365 non-null    int64  \n",
            " 1   Glucose            365 non-null    float64\n",
            " 2   Diastolic_BP       365 non-null    float64\n",
            " 3   Skin_Fold          365 non-null    float64\n",
            " 4   Serum_Insulin      365 non-null    float64\n",
            " 5   BMI                365 non-null    float64\n",
            " 6   Diabetes_Pedigree  365 non-null    float64\n",
            " 7   Age                365 non-null    int64  \n",
            " 8   Class              365 non-null    int64  \n",
            "dtypes: float64(6), int64(3)\n",
            "memory usage: 28.5 KB\n",
            "None\n",
            "    Pregnant   Glucose  Diastolic_BP  Skin_Fold  Serum_Insulin   BMI  \\\n",
            "3          1 -1.067234          66.0       23.0           94.0  28.1   \n",
            "6          3 -1.432065          50.0       32.0           88.0  31.0   \n",
            "14         5  1.486585          72.0       19.0          175.0  25.8   \n",
            "16         0 -0.105406          84.0       47.0          230.0  45.8   \n",
            "19         1 -0.204905          70.0       30.0           96.0  34.6   \n",
            "\n",
            "    Diabetes_Pedigree  Age  Class  \n",
            "3               0.167   21      0  \n",
            "6               0.248   26      1  \n",
            "14              0.587   51      1  \n",
            "16              0.551   31      1  \n",
            "19              0.529   32      1  \n"
          ]
        },
        {
          "output_type": "stream",
          "name": "stderr",
          "text": [
            "<ipython-input-31-6135c31bc219>:2: FutureWarning: DataFrame.fillna with 'method' is deprecated and will raise in a future version. Use obj.ffill() or obj.bfill() instead.\n",
            "  df_ffill = df.fillna(method='ffill')\n",
            "<ipython-input-31-6135c31bc219>:8: FutureWarning: DataFrame.fillna with 'method' is deprecated and will raise in a future version. Use obj.ffill() or obj.bfill() instead.\n",
            "  df_bfill = df.fillna(method='bfill')\n"
          ]
        }
      ]
    },
    {
      "cell_type": "code",
      "source": [
        "#mismatched character technique\n",
        "# Convert all column names to lowercase\n",
        "df.columns = df.columns.str.lower()\n",
        "print(\"Column names after standardization:\")\n",
        "print(df.columns)\n"
      ],
      "metadata": {
        "colab": {
          "base_uri": "https://localhost:8080/"
        },
        "id": "U3VYkSb1pUue",
        "outputId": "2ca943e8-b940-4182-f73e-2c261bc27ef2"
      },
      "execution_count": null,
      "outputs": [
        {
          "output_type": "stream",
          "name": "stdout",
          "text": [
            "Column names after standardization:\n",
            "Index(['pregnant', 'glucose', 'diastolic_bp', 'skin_fold', 'serum_insulin',\n",
            "       'bmi', 'diabetes_pedigree', 'age', 'class'],\n",
            "      dtype='object')\n"
          ]
        }
      ]
    }
  ]
}